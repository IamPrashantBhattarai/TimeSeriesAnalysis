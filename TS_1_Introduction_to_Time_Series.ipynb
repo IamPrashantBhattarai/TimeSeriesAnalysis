{
  "nbformat": 4,
  "nbformat_minor": 0,
  "metadata": {
    "colab": {
      "provenance": []
    },
    "kernelspec": {
      "name": "python3",
      "display_name": "Python 3"
    },
    "language_info": {
      "name": "python"
    }
  },
  "cells": [
    {
      "cell_type": "markdown",
      "source": [
        "# 1.1 What is Time Series?"
      ],
      "metadata": {
        "id": "P-lDfMk2bxWl"
      }
    },
    {
      "cell_type": "markdown",
      "source": [
        "A time series is a collection of data points or observations indexed in the **order of time**.\n",
        "\n",
        "We can call any sequence of experimental observations taken at equally spaced timestamps a time series. Thus, it is a sequence of **discrete-time data**.\n",
        "\n",
        "The spacing between any two timestamps in the series can be as small as that in electrocardiogram (80-100 ms) or voice signals (22.6 $\\mu$s for 441.kHz voice recorders) to as large as monthly, quarterly, half-yearly, or yearly sales data.\n",
        "\n",
        "A time-series $X$ of length $T + 1$ can be represented as $X = \\{ x_t \\} _{t = 0 }^ T$ where $x_t$ is the observation or value at timestamp $t$ and $T$ is the time-stamp for the last observation. Figure 1 shows the time ordering of a time-series with 14 observations.\n",
        "\n",
        "<center>\n",
        "<img src=\"https://i.postimg.cc/mDzMjt4L/time-series-2.gif\" width=600/>\n",
        "<!-- <img src=\"https://drive.google.com/uc?export=view&id=1kPVu3y4StEHch298yO0w21d_BywJO7xf\" width=600/> -->\n",
        "<br>Figure 1: Time Series\n",
        "</center>\n",
        "\n",
        "The main aim of time series is to study and capture the patterns and extrapolate the values in future timestamps according to the data already available.\n",
        "\n",
        "The dataset in the above figure can be extrapolated using time series as,\n",
        "\n",
        "<center>\n",
        "<!-- <img src=\"https://drive.google.com/uc?export=view&id=1x24jQrIkhJzjQv-DsrpHUUyLWdM9oa3f\" width=730/> -->\n",
        "<img src=\"https://i.postimg.cc/HkFZDS4H/time-series-2.png\" width=730/>\n",
        "<br>Figure 2: Time Series Forecasting\n",
        "</center>\n",
        "\n",
        "Unlike cross-sectional data, which is collected at a single point in time and captures only a snapshot of different entities without any consideration of time, the main focus of time series data is to identify and analyze temporal patterns such as **trends, seasonality, and cycles**. It helps in understanding how a variable behaves over time and is commonly used for forecasting future values."
      ],
      "metadata": {
        "id": "dJOvud1KXq48"
      }
    },
    {
      "cell_type": "markdown",
      "source": [
        "# 1.2 Components of Time Series"
      ],
      "metadata": {
        "id": "6DOiABtwpLSC"
      }
    },
    {
      "cell_type": "markdown",
      "source": [
        "## a. Trends"
      ],
      "metadata": {
        "id": "4DyIKfMrXwLd"
      }
    },
    {
      "cell_type": "markdown",
      "source": [
        "The trend component represents the long-term movement or direction in a time series. It shows whether the data is **increasing, decreasing, or stable** over a long period. Trends can be linear or non-linear, and is affected by smoothing techniques like moving averages.\n",
        "- It reflects sustained growth or decline and is not affected by short-term fluctuations.\n",
        "- Common causes of trends include economic growth, technological progress, or demographic changes.\n",
        "\n",
        "<center>\n",
        "<!-- <img src=\"https://drive.google.com/file/d/1CEFeHaevNhQmYesJCIKqCKZKpfpDxMbI/view?usp=drive_link\" width=730/> -->\n",
        "<img src=\"https://i.postimg.cc/7YpL3VnV/tsa-trend.png\" width=730/>\n",
        "<br>Figure: Trend Component\n",
        "</center>"
      ],
      "metadata": {
        "id": "6-J2zAa4X235"
      }
    },
    {
      "cell_type": "markdown",
      "source": [
        "## b. Seasonality"
      ],
      "metadata": {
        "id": "JE_ALr_8X8lI"
      }
    },
    {
      "cell_type": "markdown",
      "source": [
        "Seasonality refers to **regular and predictable patterns** that repeat over fixed time intervals, such as weeks, months, or quarters.\n",
        "\n",
        "It is caused by recurring events such as holidays, weather patterns, or cultural habits.\n",
        "\n",
        "<center>\n",
        "<!-- <img src=\"https://drive.google.com/file/d/19mDSnz1Zq_KSoeP5KTjW5oMGvSPlGGsb/view?usp=drive_link\" width=730/> -->\n",
        "<img src=\"https://i.postimg.cc/KY5q70B3/tsa-seasonality.png\" width=730/>\n",
        "<br>Figure: Seasonality Component\n",
        "</center>\n",
        "\n",
        "Seasonality is **consistent in both timing and magnitude** (e.g., sales always peak in December)."
      ],
      "metadata": {
        "id": "f71zSvrfX_pb"
      }
    },
    {
      "cell_type": "markdown",
      "source": [
        "## c. Cyclic Fluctuations"
      ],
      "metadata": {
        "id": "J1pfdVL6YPnp"
      }
    },
    {
      "cell_type": "markdown",
      "source": [
        "Cyclic fluctuations are **irregular oscillations** in the time series that occur over long, variable periods. These are not tied to specific calendar intervals like seasonality. They do not have fixed frequency or amplitude.\n",
        "- They typically arise from economic or political factors, such as booms and innovations.\n",
        "- Cycles are **more complex and less predictable** than seasonal patterns.\n",
        "<center>\n",
        "<!-- <img src=\"https://drive.google.com/file/d/1iFfz3WVABS2dw1JUNHi1uRUnA1e75oJ6/view?usp=drive_link\" width=730/> -->\n",
        "<img src=\"https://i.postimg.cc/25Jw7g36/tsa-cyclic.png\" width=730/>\n",
        "<br>Figure: Cyclic Component\n",
        "</center>"
      ],
      "metadata": {
        "id": "Fe1EJyG5YVFP"
      }
    },
    {
      "cell_type": "markdown",
      "source": [
        "## d. Error / Noise"
      ],
      "metadata": {
        "id": "u2olH2ZbYaax"
      }
    },
    {
      "cell_type": "markdown",
      "source": [
        "\n",
        "The error or noise component captures the **random, unpredictable variations** in time series data that cannot be explained by trend, seasonality, or cycles.\n",
        "- It represents the \"leftover\" after other components are accounted for.\n",
        "- Noise can **distort forecasts** and must be minimized or smoothed for better accuracy.\n",
        "\n",
        "Noise can be reduced by using techniques like exponential smoothing or filtering.\n",
        "\n",
        "**Characteristics of errors**\n",
        "- The residuals should have a constant zero mean, indicating no systematic bias.\n",
        "- The residuals should exhibit constant variance (homoscedasticity), meaning the spread of residuals remains consistent over time.\n",
        "\n",
        "<center>\n",
        "<!-- <img src=\"https://drive.google.com/file/d/1tOuHc6AGGNGSb1flzZLdPel-P3DCtOj8/view?usp=drive_link\" width=730/> -->\n",
        "<img src=\"https://i.postimg.cc/W1T337mf/tsa-error.png\" width=730/>\n",
        "<br>Figure: Noise Component\n",
        "</center>\n",
        "\n",
        "> <div align=\"center\">\n",
        "    <figure>\n",
        "        <img src=\"https://i.postimg.cc/6qD1ZMDz/time-series-forecasting.png\">\n",
        "        <!-- <img src=\"https://drive.google.com/file/d/1RB2ZVP6RFNOe861oTxLZn3jJ0PjP7t-U/view?usp=drive_link\"> -->\n",
        "    </figure>\n",
        "   Figure: Time series with Trend, Seasonality and Noise\n",
        " </div>"
      ],
      "metadata": {
        "id": "-FYh70pRYd3X"
      }
    },
    {
      "cell_type": "markdown",
      "source": [
        "# 1.3 Decomposition Models"
      ],
      "metadata": {
        "id": "rgOxj-1OZZAk"
      }
    },
    {
      "cell_type": "markdown",
      "source": [
        "To extract and study these components, we can apply decomposition techniques using additive or multiplicative models:"
      ],
      "metadata": {
        "id": "DZpWTIGWZemw"
      }
    },
    {
      "cell_type": "markdown",
      "source": [
        "## a. Additive Model:"
      ],
      "metadata": {
        "id": "yM6HJT0iZjyD"
      }
    },
    {
      "cell_type": "markdown",
      "source": [
        "$$Y(t)=T(t)+S(t)+C(t)+E(t)$$\n",
        "- Used when seasonal and cyclic variations are roughly constant over time."
      ],
      "metadata": {
        "id": "_q9mKDfeZl0P"
      }
    },
    {
      "cell_type": "markdown",
      "source": [
        "## b. Multiplicative Model:"
      ],
      "metadata": {
        "id": "VX7OMGJuZpiJ"
      }
    },
    {
      "cell_type": "markdown",
      "source": [
        "$$Y(t)=T(t)×S(t)×C(t)×E(t)$$\n",
        "- Used when variations grow or shrink proportionally with the trend."
      ],
      "metadata": {
        "id": "rGRJwfM_Zuph"
      }
    },
    {
      "cell_type": "markdown",
      "source": [
        "Statistical libraries like **statsmodels** in Python allow easy decomposition and visualization of these components."
      ],
      "metadata": {
        "id": "j1aGnJZEZxYN"
      }
    },
    {
      "cell_type": "markdown",
      "source": [
        "# 1.4 Real World Examples of Time Series\n",
        "In the above sections, we defined time series, discussed some common patterns observed in time series, and learned that no $iid$ assumption differentiates it from conventional ML. Now, let's explore some real-world examples of time series. We'll use `matplotlib` to generate plots for these time series. Next, we'll import the libraries required for this reading material.\n",
        "\n",
        "\n"
      ],
      "metadata": {
        "id": "-1wYXnxd6eE7"
      }
    },
    {
      "cell_type": "code",
      "source": [
        "import matplotlib\n",
        "import matplotlib.pyplot as plt\n",
        "import numpy as np\n",
        "import pandas as pd"
      ],
      "metadata": {
        "id": "hzXrlZuA0h5D"
      },
      "execution_count": null,
      "outputs": []
    },
    {
      "cell_type": "markdown",
      "source": [
        "Next, we'll define a `plot_series` function to plot the graphs for the given time series using `matplotlib`."
      ],
      "metadata": {
        "id": "MGqDD4E_0us9"
      }
    },
    {
      "cell_type": "markdown",
      "source": [
        "### 1. Stock Data Analysis"
      ],
      "metadata": {
        "id": "roroj-0X3wVj"
      }
    },
    {
      "cell_type": "code",
      "source": [
        "!pip install yfinance\n",
        "import yfinance as yf\n",
        "\n",
        "apple = yf.Ticker(\"AAPL\") # Download stock data"
      ],
      "metadata": {
        "id": "PSKh9VOA9ROn"
      },
      "execution_count": null,
      "outputs": []
    },
    {
      "cell_type": "code",
      "source": [
        "# Get historical prices for 3 years\n",
        "hist = apple.history(period=\"3y\")\n",
        "\n",
        "\n",
        "hist.head()\n"
      ],
      "metadata": {
        "colab": {
          "base_uri": "https://localhost:8080/",
          "height": 237
        },
        "id": "4iG4quhR9oEi",
        "outputId": "190ebd38-a9b2-4586-810f-a929495398b8"
      },
      "execution_count": null,
      "outputs": [
        {
          "output_type": "execute_result",
          "data": {
            "text/plain": [
              "                                 Open        High         Low       Close  \\\n",
              "Date                                                                        \n",
              "2022-06-21 00:00:00-04:00  131.313298  134.895822  131.214886  133.724609   \n",
              "2022-06-22 00:00:00-04:00  132.661644  135.584749  131.795550  133.212814   \n",
              "2022-06-23 00:00:00-04:00  134.659629  136.401670  133.488417  136.086731   \n",
              "2022-06-24 00:00:00-04:00  137.690983  139.669255  137.563046  139.423203   \n",
              "2022-06-27 00:00:00-04:00  140.446774  141.224309  138.744095  139.423203   \n",
              "\n",
              "                             Volume  Dividends  Stock Splits  \n",
              "Date                                                          \n",
              "2022-06-21 00:00:00-04:00  81000500        0.0           0.0  \n",
              "2022-06-22 00:00:00-04:00  73409200        0.0           0.0  \n",
              "2022-06-23 00:00:00-04:00  72433800        0.0           0.0  \n",
              "2022-06-24 00:00:00-04:00  89116800        0.0           0.0  \n",
              "2022-06-27 00:00:00-04:00  70207900        0.0           0.0  "
            ],
            "text/html": [
              "\n",
              "  <div id=\"df-1697bf92-244e-47be-b616-67b6ede286e2\" class=\"colab-df-container\">\n",
              "    <div>\n",
              "<style scoped>\n",
              "    .dataframe tbody tr th:only-of-type {\n",
              "        vertical-align: middle;\n",
              "    }\n",
              "\n",
              "    .dataframe tbody tr th {\n",
              "        vertical-align: top;\n",
              "    }\n",
              "\n",
              "    .dataframe thead th {\n",
              "        text-align: right;\n",
              "    }\n",
              "</style>\n",
              "<table border=\"1\" class=\"dataframe\">\n",
              "  <thead>\n",
              "    <tr style=\"text-align: right;\">\n",
              "      <th></th>\n",
              "      <th>Open</th>\n",
              "      <th>High</th>\n",
              "      <th>Low</th>\n",
              "      <th>Close</th>\n",
              "      <th>Volume</th>\n",
              "      <th>Dividends</th>\n",
              "      <th>Stock Splits</th>\n",
              "    </tr>\n",
              "    <tr>\n",
              "      <th>Date</th>\n",
              "      <th></th>\n",
              "      <th></th>\n",
              "      <th></th>\n",
              "      <th></th>\n",
              "      <th></th>\n",
              "      <th></th>\n",
              "      <th></th>\n",
              "    </tr>\n",
              "  </thead>\n",
              "  <tbody>\n",
              "    <tr>\n",
              "      <th>2022-06-21 00:00:00-04:00</th>\n",
              "      <td>131.313298</td>\n",
              "      <td>134.895822</td>\n",
              "      <td>131.214886</td>\n",
              "      <td>133.724609</td>\n",
              "      <td>81000500</td>\n",
              "      <td>0.0</td>\n",
              "      <td>0.0</td>\n",
              "    </tr>\n",
              "    <tr>\n",
              "      <th>2022-06-22 00:00:00-04:00</th>\n",
              "      <td>132.661644</td>\n",
              "      <td>135.584749</td>\n",
              "      <td>131.795550</td>\n",
              "      <td>133.212814</td>\n",
              "      <td>73409200</td>\n",
              "      <td>0.0</td>\n",
              "      <td>0.0</td>\n",
              "    </tr>\n",
              "    <tr>\n",
              "      <th>2022-06-23 00:00:00-04:00</th>\n",
              "      <td>134.659629</td>\n",
              "      <td>136.401670</td>\n",
              "      <td>133.488417</td>\n",
              "      <td>136.086731</td>\n",
              "      <td>72433800</td>\n",
              "      <td>0.0</td>\n",
              "      <td>0.0</td>\n",
              "    </tr>\n",
              "    <tr>\n",
              "      <th>2022-06-24 00:00:00-04:00</th>\n",
              "      <td>137.690983</td>\n",
              "      <td>139.669255</td>\n",
              "      <td>137.563046</td>\n",
              "      <td>139.423203</td>\n",
              "      <td>89116800</td>\n",
              "      <td>0.0</td>\n",
              "      <td>0.0</td>\n",
              "    </tr>\n",
              "    <tr>\n",
              "      <th>2022-06-27 00:00:00-04:00</th>\n",
              "      <td>140.446774</td>\n",
              "      <td>141.224309</td>\n",
              "      <td>138.744095</td>\n",
              "      <td>139.423203</td>\n",
              "      <td>70207900</td>\n",
              "      <td>0.0</td>\n",
              "      <td>0.0</td>\n",
              "    </tr>\n",
              "  </tbody>\n",
              "</table>\n",
              "</div>\n",
              "    <div class=\"colab-df-buttons\">\n",
              "\n",
              "  <div class=\"colab-df-container\">\n",
              "    <button class=\"colab-df-convert\" onclick=\"convertToInteractive('df-1697bf92-244e-47be-b616-67b6ede286e2')\"\n",
              "            title=\"Convert this dataframe to an interactive table.\"\n",
              "            style=\"display:none;\">\n",
              "\n",
              "  <svg xmlns=\"http://www.w3.org/2000/svg\" height=\"24px\" viewBox=\"0 -960 960 960\">\n",
              "    <path d=\"M120-120v-720h720v720H120Zm60-500h600v-160H180v160Zm220 220h160v-160H400v160Zm0 220h160v-160H400v160ZM180-400h160v-160H180v160Zm440 0h160v-160H620v160ZM180-180h160v-160H180v160Zm440 0h160v-160H620v160Z\"/>\n",
              "  </svg>\n",
              "    </button>\n",
              "\n",
              "  <style>\n",
              "    .colab-df-container {\n",
              "      display:flex;\n",
              "      gap: 12px;\n",
              "    }\n",
              "\n",
              "    .colab-df-convert {\n",
              "      background-color: #E8F0FE;\n",
              "      border: none;\n",
              "      border-radius: 50%;\n",
              "      cursor: pointer;\n",
              "      display: none;\n",
              "      fill: #1967D2;\n",
              "      height: 32px;\n",
              "      padding: 0 0 0 0;\n",
              "      width: 32px;\n",
              "    }\n",
              "\n",
              "    .colab-df-convert:hover {\n",
              "      background-color: #E2EBFA;\n",
              "      box-shadow: 0px 1px 2px rgba(60, 64, 67, 0.3), 0px 1px 3px 1px rgba(60, 64, 67, 0.15);\n",
              "      fill: #174EA6;\n",
              "    }\n",
              "\n",
              "    .colab-df-buttons div {\n",
              "      margin-bottom: 4px;\n",
              "    }\n",
              "\n",
              "    [theme=dark] .colab-df-convert {\n",
              "      background-color: #3B4455;\n",
              "      fill: #D2E3FC;\n",
              "    }\n",
              "\n",
              "    [theme=dark] .colab-df-convert:hover {\n",
              "      background-color: #434B5C;\n",
              "      box-shadow: 0px 1px 3px 1px rgba(0, 0, 0, 0.15);\n",
              "      filter: drop-shadow(0px 1px 2px rgba(0, 0, 0, 0.3));\n",
              "      fill: #FFFFFF;\n",
              "    }\n",
              "  </style>\n",
              "\n",
              "    <script>\n",
              "      const buttonEl =\n",
              "        document.querySelector('#df-1697bf92-244e-47be-b616-67b6ede286e2 button.colab-df-convert');\n",
              "      buttonEl.style.display =\n",
              "        google.colab.kernel.accessAllowed ? 'block' : 'none';\n",
              "\n",
              "      async function convertToInteractive(key) {\n",
              "        const element = document.querySelector('#df-1697bf92-244e-47be-b616-67b6ede286e2');\n",
              "        const dataTable =\n",
              "          await google.colab.kernel.invokeFunction('convertToInteractive',\n",
              "                                                    [key], {});\n",
              "        if (!dataTable) return;\n",
              "\n",
              "        const docLinkHtml = 'Like what you see? Visit the ' +\n",
              "          '<a target=\"_blank\" href=https://colab.research.google.com/notebooks/data_table.ipynb>data table notebook</a>'\n",
              "          + ' to learn more about interactive tables.';\n",
              "        element.innerHTML = '';\n",
              "        dataTable['output_type'] = 'display_data';\n",
              "        await google.colab.output.renderOutput(dataTable, element);\n",
              "        const docLink = document.createElement('div');\n",
              "        docLink.innerHTML = docLinkHtml;\n",
              "        element.appendChild(docLink);\n",
              "      }\n",
              "    </script>\n",
              "  </div>\n",
              "\n",
              "\n",
              "    <div id=\"df-0f80f132-5c8b-4be3-bd31-2766a131e12b\">\n",
              "      <button class=\"colab-df-quickchart\" onclick=\"quickchart('df-0f80f132-5c8b-4be3-bd31-2766a131e12b')\"\n",
              "                title=\"Suggest charts\"\n",
              "                style=\"display:none;\">\n",
              "\n",
              "<svg xmlns=\"http://www.w3.org/2000/svg\" height=\"24px\"viewBox=\"0 0 24 24\"\n",
              "     width=\"24px\">\n",
              "    <g>\n",
              "        <path d=\"M19 3H5c-1.1 0-2 .9-2 2v14c0 1.1.9 2 2 2h14c1.1 0 2-.9 2-2V5c0-1.1-.9-2-2-2zM9 17H7v-7h2v7zm4 0h-2V7h2v10zm4 0h-2v-4h2v4z\"/>\n",
              "    </g>\n",
              "</svg>\n",
              "      </button>\n",
              "\n",
              "<style>\n",
              "  .colab-df-quickchart {\n",
              "      --bg-color: #E8F0FE;\n",
              "      --fill-color: #1967D2;\n",
              "      --hover-bg-color: #E2EBFA;\n",
              "      --hover-fill-color: #174EA6;\n",
              "      --disabled-fill-color: #AAA;\n",
              "      --disabled-bg-color: #DDD;\n",
              "  }\n",
              "\n",
              "  [theme=dark] .colab-df-quickchart {\n",
              "      --bg-color: #3B4455;\n",
              "      --fill-color: #D2E3FC;\n",
              "      --hover-bg-color: #434B5C;\n",
              "      --hover-fill-color: #FFFFFF;\n",
              "      --disabled-bg-color: #3B4455;\n",
              "      --disabled-fill-color: #666;\n",
              "  }\n",
              "\n",
              "  .colab-df-quickchart {\n",
              "    background-color: var(--bg-color);\n",
              "    border: none;\n",
              "    border-radius: 50%;\n",
              "    cursor: pointer;\n",
              "    display: none;\n",
              "    fill: var(--fill-color);\n",
              "    height: 32px;\n",
              "    padding: 0;\n",
              "    width: 32px;\n",
              "  }\n",
              "\n",
              "  .colab-df-quickchart:hover {\n",
              "    background-color: var(--hover-bg-color);\n",
              "    box-shadow: 0 1px 2px rgba(60, 64, 67, 0.3), 0 1px 3px 1px rgba(60, 64, 67, 0.15);\n",
              "    fill: var(--button-hover-fill-color);\n",
              "  }\n",
              "\n",
              "  .colab-df-quickchart-complete:disabled,\n",
              "  .colab-df-quickchart-complete:disabled:hover {\n",
              "    background-color: var(--disabled-bg-color);\n",
              "    fill: var(--disabled-fill-color);\n",
              "    box-shadow: none;\n",
              "  }\n",
              "\n",
              "  .colab-df-spinner {\n",
              "    border: 2px solid var(--fill-color);\n",
              "    border-color: transparent;\n",
              "    border-bottom-color: var(--fill-color);\n",
              "    animation:\n",
              "      spin 1s steps(1) infinite;\n",
              "  }\n",
              "\n",
              "  @keyframes spin {\n",
              "    0% {\n",
              "      border-color: transparent;\n",
              "      border-bottom-color: var(--fill-color);\n",
              "      border-left-color: var(--fill-color);\n",
              "    }\n",
              "    20% {\n",
              "      border-color: transparent;\n",
              "      border-left-color: var(--fill-color);\n",
              "      border-top-color: var(--fill-color);\n",
              "    }\n",
              "    30% {\n",
              "      border-color: transparent;\n",
              "      border-left-color: var(--fill-color);\n",
              "      border-top-color: var(--fill-color);\n",
              "      border-right-color: var(--fill-color);\n",
              "    }\n",
              "    40% {\n",
              "      border-color: transparent;\n",
              "      border-right-color: var(--fill-color);\n",
              "      border-top-color: var(--fill-color);\n",
              "    }\n",
              "    60% {\n",
              "      border-color: transparent;\n",
              "      border-right-color: var(--fill-color);\n",
              "    }\n",
              "    80% {\n",
              "      border-color: transparent;\n",
              "      border-right-color: var(--fill-color);\n",
              "      border-bottom-color: var(--fill-color);\n",
              "    }\n",
              "    90% {\n",
              "      border-color: transparent;\n",
              "      border-bottom-color: var(--fill-color);\n",
              "    }\n",
              "  }\n",
              "</style>\n",
              "\n",
              "      <script>\n",
              "        async function quickchart(key) {\n",
              "          const quickchartButtonEl =\n",
              "            document.querySelector('#' + key + ' button');\n",
              "          quickchartButtonEl.disabled = true;  // To prevent multiple clicks.\n",
              "          quickchartButtonEl.classList.add('colab-df-spinner');\n",
              "          try {\n",
              "            const charts = await google.colab.kernel.invokeFunction(\n",
              "                'suggestCharts', [key], {});\n",
              "          } catch (error) {\n",
              "            console.error('Error during call to suggestCharts:', error);\n",
              "          }\n",
              "          quickchartButtonEl.classList.remove('colab-df-spinner');\n",
              "          quickchartButtonEl.classList.add('colab-df-quickchart-complete');\n",
              "        }\n",
              "        (() => {\n",
              "          let quickchartButtonEl =\n",
              "            document.querySelector('#df-0f80f132-5c8b-4be3-bd31-2766a131e12b button');\n",
              "          quickchartButtonEl.style.display =\n",
              "            google.colab.kernel.accessAllowed ? 'block' : 'none';\n",
              "        })();\n",
              "      </script>\n",
              "    </div>\n",
              "\n",
              "    </div>\n",
              "  </div>\n"
            ],
            "application/vnd.google.colaboratory.intrinsic+json": {
              "type": "dataframe",
              "variable_name": "hist",
              "summary": "{\n  \"name\": \"hist\",\n  \"rows\": 752,\n  \"fields\": [\n    {\n      \"column\": \"Date\",\n      \"properties\": {\n        \"dtype\": \"date\",\n        \"min\": \"2022-06-21 00:00:00-04:00\",\n        \"max\": \"2025-06-18 00:00:00-04:00\",\n        \"num_unique_values\": 752,\n        \"samples\": [\n          \"2024-10-16 00:00:00-04:00\",\n          \"2024-10-25 00:00:00-04:00\",\n          \"2024-05-28 00:00:00-04:00\"\n        ],\n        \"semantic_type\": \"\",\n        \"description\": \"\"\n      }\n    },\n    {\n      \"column\": \"Open\",\n      \"properties\": {\n        \"dtype\": \"number\",\n        \"std\": 31.941569964355676,\n        \"min\": 124.39858171183529,\n        \"max\": 257.56867823862046,\n        \"num_unique_values\": 751,\n        \"samples\": [\n          181.75231510468853,\n          188.50951003765908,\n          126.35326658304521\n        ],\n        \"semantic_type\": \"\",\n        \"description\": \"\"\n      }\n    },\n    {\n      \"column\": \"High\",\n      \"properties\": {\n        \"dtype\": \"number\",\n        \"std\": 32.11249530866891,\n        \"min\": 126.13608257581905,\n        \"max\": 259.47408555117545,\n        \"num_unique_values\": 752,\n        \"samples\": [\n          231.3069145139278,\n          232.4030838122294,\n          192.10160462638697\n        ],\n        \"semantic_type\": \"\",\n        \"description\": \"\"\n      }\n    },\n    {\n      \"column\": \"Low\",\n      \"properties\": {\n        \"dtype\": \"number\",\n        \"std\": 31.71082019321265,\n        \"min\": 122.58212678977998,\n        \"max\": 257.0100282923795,\n        \"num_unique_values\": 752,\n        \"samples\": [\n          229.0349022193022,\n          228.7658750265385,\n          188.21976480489596\n        ],\n        \"semantic_type\": \"\",\n        \"description\": \"\"\n      }\n    },\n    {\n      \"column\": \"Close\",\n      \"properties\": {\n        \"dtype\": \"number\",\n        \"std\": 31.953318512093055,\n        \"min\": 123.42124938964844,\n        \"max\": 258.39666748046875,\n        \"num_unique_values\": 745,\n        \"samples\": [\n          164.77008056640625,\n          188.78977966308594,\n          137.71609497070312\n        ],\n        \"semantic_type\": \"\",\n        \"description\": \"\"\n      }\n    },\n    {\n      \"column\": \"Volume\",\n      \"properties\": {\n        \"dtype\": \"number\",\n        \"std\": 26068770,\n        \"min\": 23234700,\n        \"max\": 318679900,\n        \"num_unique_values\": 752,\n        \"samples\": [\n          34082200,\n          38802300,\n          52280100\n        ],\n        \"semantic_type\": \"\",\n        \"description\": \"\"\n      }\n    },\n    {\n      \"column\": \"Dividends\",\n      \"properties\": {\n        \"dtype\": \"number\",\n        \"std\": 0.03043053753733978,\n        \"min\": 0.0,\n        \"max\": 0.26,\n        \"num_unique_values\": 5,\n        \"samples\": [\n          0.23,\n          0.26,\n          0.24\n        ],\n        \"semantic_type\": \"\",\n        \"description\": \"\"\n      }\n    },\n    {\n      \"column\": \"Stock Splits\",\n      \"properties\": {\n        \"dtype\": \"number\",\n        \"std\": 0.0,\n        \"min\": 0.0,\n        \"max\": 0.0,\n        \"num_unique_values\": 1,\n        \"samples\": [\n          0.0\n        ],\n        \"semantic_type\": \"\",\n        \"description\": \"\"\n      }\n    }\n  ]\n}"
            }
          },
          "metadata": {},
          "execution_count": 20
        }
      ]
    },
    {
      "cell_type": "code",
      "source": [
        "# Ensure Date is in datetime format (yfinance typically sets it as index)\n",
        "hist.index = pd.to_datetime(hist.index)\n",
        "\n",
        "# Plot 1: Line plot of Close prices over 3 years\n",
        "plt.figure(figsize=(12, 6))\n",
        "plt.plot(hist.index, hist['Close'], color='b', label='Close Price')\n",
        "plt.title('Apple (AAPL) Closing Prices - Last 3 Years')\n",
        "plt.xlabel('Date')\n",
        "plt.ylabel('Close Price (USD)')\n",
        "plt.grid(True)\n",
        "plt.legend()\n",
        "plt.xticks(rotation=45)\n",
        "plt.tight_layout()\n"
      ],
      "metadata": {
        "colab": {
          "base_uri": "https://localhost:8080/",
          "height": 587
        },
        "id": "Z86F6eSPgJvK",
        "outputId": "ba89ec2f-e4f0-4367-b168-72d6822e9777"
      },
      "execution_count": null,
      "outputs": [
        {
          "output_type": "display_data",
          "data": {
            "text/plain": [
              "<Figure size 1200x600 with 1 Axes>"
            ],
            "image/png": "[encoded data removed]"
          },
          "metadata": {}
        }
      ]
    },
    {
      "cell_type": "markdown",
      "source": [
        "### 2. Border Crossing Entry Data Analysis\n",
        "Here is an example of time series analysis on US Border data with Port Name, State, Port Code, Border, Date, Measure and Value in the dataset. [Kaggle Dataset](https://www.kaggle.com/code/datafan07/time-series-analysis-forecast-with-visualization/notebook)\n",
        "\n",
        "<div align=\"center\">\n",
        "    <figure>\n",
        "        <img src=\"https://i.postimg.cc/503dWYdS/kaggleforecast.png\">\n",
        "        <!-- <img src=\"https://drive.google.com/file/d/1mR51a9mgXwoi7_7NI-OBqeIFfj1I6Sja/view?usp=sharing\"> -->\n",
        "    </figure>\n",
        "   Figure: Time series with Trend, Seasonality and Noise\n",
        " </div>"
      ],
      "metadata": {
        "id": "dW791QD132HJ"
      }
    },
    {
      "cell_type": "markdown",
      "source": [
        "### 3. Temperature Analysis\n",
        "Time series analysis can be used for weather predictions and climate change analysis, an instance of which is given below.\n",
        "\n",
        "[Dataset Link](https://www.kaggle.com/code/iamleonie/intro-to-time-series-forecasting/input)\n",
        "\n",
        "<div align=\"center\">\n",
        "    <figure>\n",
        "        <img src=\"https://i.postimg.cc/0NZ0gD2f/Screenshot-2025-06-19-170500.png\">\n",
        "        <!-- <img src=\"https://drive.google.com/file/d/18MPB3Ag67aMFctoDS6J3EKcOlT3AXFrC/view?usp=drive_link\"> -->\n",
        "    </figure>\n",
        "   Figure: Time series with Trend, Seasonality and Noise\n",
        " </div>"
      ],
      "metadata": {
        "id": "d3vLe7qe65uG"
      }
    },
    {
      "cell_type": "markdown",
      "source": [
        "\n",
        "# 1.5 Types of Time Series\n",
        "Time series data can be classified into various types based on statistical properties and the number of variables observed over time."
      ],
      "metadata": {
        "id": "8t5DFzfbxiz3"
      }
    },
    {
      "cell_type": "markdown",
      "source": [
        "## a. Stationary and Non-stationary Time series"
      ],
      "metadata": {
        "id": "jfgJGX4pbJn7"
      }
    },
    {
      "cell_type": "markdown",
      "source": [
        "### Stationary Time Series\n",
        "A stationary time series is the data whose overall statistical behavior like average value, variance, and autocorrelation remain constant. Stationarity is important as most classical forecasting models assume the input series is stationary to make reliable predictions.\n",
        "\n",
        "Long-term trends do not exist in stationary time series, and the data fluctuates around a stable mean. If a time series is not stationary, we typically transform it (e.g., by differencing or removing trends) before applying such models.\n",
        "\n",
        "- The relationship between observations depends only on the time gap, not the actual time.\n",
        "\n",
        "- Stationary series are easier to model and more predictable.\n",
        "\n",
        "<center>\n",
        "<!-- <img src=\"https://drive.google.com/file/d/1e7N9IcR1ZkgxtAZkAoJjRFvliLisUPas/view?usp=drive_link\" width=730/> -->\n",
        "<img src=\"https://i.postimg.cc/z3ZBqthg/tsa-stationary.png\" width=730/>\n",
        "<br>Figure: Stationary Time Series\n",
        "</center>\n",
        "This plot illustrates a stationary series that fluctuates around a constant mean with stable variance over time. Such series are ideal for modeling with AR, MA, or ARMA-based methods."
      ],
      "metadata": {
        "id": "Bo60XvR3c45h"
      }
    },
    {
      "cell_type": "markdown",
      "source": [
        "### Non-Stationary Time Series\n",
        "A non-stationary time series is the data with statistical properties like the mean or variance that change over time. The change could be caused by trends, seasonal effects, or structural shifts in the data, i.e. the variability can increase or decrease across time.\n",
        "\n",
        "Non-stationary data is not directly suitable for many statistical forecasting methods like ARIMA, because the changing structure makes predictions unreliable. To model non-stationary series effectively, we first need to transform it into a stationary series.\n",
        "\n",
        "- Harder to model due to unstable patterns.\n",
        "- Needs to be converted to stationary before applying many time series models.\n",
        "\n",
        "<center>\n",
        "<!-- <img src=\"https://drive.google.com/file/d/1Cgh6M4hV1YmKwwDtefHj3TwlzhX0mbZT/view?usp=drive_link\" width=730/> -->\n",
        "<img src=\"https://i.postimg.cc/sft9B39p/tsa-non-stationary.png\" width=730/>\n",
        "<br>Figure: Non-Stationary Time Series\n",
        "</center>\n",
        "This plot shows a time series with a persistent upward trend, indicating that its statistical properties (mean and variance) change over time. Such series are unsuitable for many statistical models without transformation."
      ],
      "metadata": {
        "id": "ujielWYoc8b0"
      }
    },
    {
      "cell_type": "markdown",
      "source": [
        "## b. Univariate and Multivariate Time series"
      ],
      "metadata": {
        "id": "8Vie0Y_AYbgM"
      }
    },
    {
      "cell_type": "markdown",
      "source": [
        "### Univariate Time Series\n",
        "A univariate time series consists of observations of a single variable collected at regular time intervals. It captures how one quantity changes over time, and all forecasting is done based solely on the past values of that variable. Since only one variable is involved, univariate time series analysis focuses on identifying internal patterns like trends, seasonality, or cyclic behavior.\n",
        "\n",
        "Models such as ARIMA, Exponential Smoothing, and Simple Moving Averages are commonly used for analyzing univariate time series.\n",
        "\n",
        "**Example:** Daily temperature readings, Monthly sales of a product, Hourly electricity consumption"
      ],
      "metadata": {
        "id": "SptR9si3dDH5"
      }
    },
    {
      "cell_type": "markdown",
      "source": [
        "### Multivariate Time Series\n",
        "A multivariate time series involves **two or more variables** recorded over time. Unlike univariate series, multivariate analysis considers **interactions between variables**, capturing how they influence each other. These series are useful when one variable’s behavior depends on or is influenced by others—for example, sales affected by advertising spend and season.\n",
        "\n",
        "Multivariate models aim to analyze both the individual trends and the relationships between variables. Techniques like Vector AutoRegression (VAR), Vector Error Correction Models (VECM), or Multivariate LSTMs are commonly used for forecasting.\n",
        "\n",
        "**Examples:**\n",
        "- Weather data: temperature, humidity, pressure\n",
        "- Stock data: prices, volumes, volatility\n",
        "- Business metrics: sales, ad spend, customer visits"
      ],
      "metadata": {
        "id": "vz2sqG7ndGBP"
      }
    },
    {
      "cell_type": "markdown",
      "source": [
        "<center>\n",
        "<!-- <img src=\"https://drive.google.com/file/d/1HjDemyUMBXqKdVA6wbAqcbfG8pjQmWu2/view?usp=drive_link\" width=730/> -->\n",
        "<img src=\"https://i.postimg.cc/5t2ZhB7m/tsa-univariate-and-multivariate.png\" width=730/>\n",
        "<br>Figure: Univariate and Multi Variate Time Series\n",
        "</center>"
      ],
      "metadata": {
        "id": "MDC3tmpKdIe2"
      }
    },
    {
      "cell_type": "markdown",
      "source": [
        "# 1.6 Key Takeaways\n",
        "- Time series analysis focuses on understanding how data points evolve over time, which is critical in domains like finance, climate, and demand forecasting.\n",
        "- Breaking down a time series into components like trend, seasonality, and noise helps isolate meaningful patterns that can be modeled and predicted.\n",
        "- Stationarity is the foundation of most time series models, and checking or transforming for stationarity ensures stable and reliable forecasting."
      ],
      "metadata": {
        "id": "bPmP9Dlxa8sY"
      }
    }
  ]
}